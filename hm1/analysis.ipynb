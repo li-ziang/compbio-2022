{
 "cells": [
  {
   "cell_type": "code",
   "execution_count": 81,
   "metadata": {},
   "outputs": [
    {
     "name": "stdout",
     "output_type": "stream",
     "text": [
      "lake\n",
      "grun\n",
      "deng-rpkms\n",
      "fan\n",
      "usoskin\n",
      "patel\n",
      "camp1\n",
      "manno_mouse\n",
      "tasic-rpkms\n",
      "romanov\n"
     ]
    }
   ],
   "source": [
    "\"\"\"\n",
    "Author Ziang, 9.2022\n",
    "\"\"\"\n",
    "import os \n",
    "import pandas as pd\n",
    "import anndata\n",
    "path = \"singleCellData_and_label/singleCellData/\"\n",
    "label_path = \"singleCellData_and_label/labels/\"\n",
    "adata_path = \"singleCellData_and_label/adata/\"\n",
    "! mkdir -p $adata_path\n",
    "for file in os.listdir(path)[:10]:\n",
    "    print(file)\n",
    "    adata = anndata.read_csv(path+file, delimiter='\\t')\n",
    "    adata = adata.transpose()\n",
    "    mat = pd.read_csv(label_path+file+\"_label\",delimiter=\"\\t\")\n",
    "    for col in mat.columns:\n",
    "        adata.obs[col] = mat[col]\n",
    "    adata.write(adata_path+file+\".adata\")"
   ]
  },
  {
   "cell_type": "code",
   "execution_count": 82,
   "metadata": {},
   "outputs": [
    {
     "name": "stdout",
     "output_type": "stream",
     "text": [
      "{'patel.adata': (0.7440871586260658, 0.6413501217250052), 'lake.adata': (0.6865668599100857, 0.3294259673784791), 'tasic-rpkms.adata': (0.8165305450264023, 0.6163496878652964), 'fan.adata': (0.5274444957163996, 0.29692987248123115), 'usoskin.adata': (0.6292537284209706, 0.3565525318709324), 'camp1.adata': (0.8274677669747357, 0.6170106302566045), 'deng-rpkms.adata': (0.6810023863025186, 0.32060386438622457), 'grun.adata': (0.2720464363815273, 0.055385080610707384), 'romanov.adata': (0.48159975712953274, 0.23972677053931465), 'manno_mouse.adata': (0.5172617652154685, 0.24046779247532654)}\n"
     ]
    }
   ],
   "source": [
    "import scanpy as sc\n",
    "import anndata\n",
    "import numpy as np\n",
    "from sklearn.metrics.cluster import normalized_mutual_info_score, adjusted_rand_score\n",
    "sc.settings.verbosity = 0             # verbosity: errors (0), warnings (1), info (2), hints (3)\n",
    "# sc.logging.print_header()\n",
    "sc.settings.set_figure_params(dpi=80, facecolor='white')\n",
    "def cal_score(adata):\n",
    "    sc.pp.neighbors(adata, n_neighbors=10)\n",
    "    sc.tl.leiden(adata)\n",
    "    leiden_result = adata.obs[\"leiden\"]\n",
    "    cell_type1 = adata.obs['cell_type1']\n",
    "    _, cell_type1_int = np.unique(cell_type1, return_inverse=True)\n",
    "    # print(\"NMI\",normalized_mutual_info_score(cell_type1_int, leiden_result),\"ARI\", adjusted_rand_score(cell_type1_int, leiden_result))\n",
    "    return normalized_mutual_info_score(cell_type1_int, leiden_result), adjusted_rand_score(cell_type1_int, leiden_result)\n",
    "adata_path = \"singleCellData_and_label/adata/\"\n",
    "result = {}\n",
    "for file_name in os.listdir(adata_path):\n",
    "    adata = anndata.read_h5ad(\"singleCellData_and_label/adata/\"+file_name)\n",
    "    # print(file_name)\n",
    "    result[file_name] = cal_score(adata)\n",
    "print(result)"
   ]
  }
 ],
 "metadata": {
  "kernelspec": {
   "display_name": "Python 3.9.0 ('sing')",
   "language": "python",
   "name": "python3"
  },
  "language_info": {
   "codemirror_mode": {
    "name": "ipython",
    "version": 3
   },
   "file_extension": ".py",
   "mimetype": "text/x-python",
   "name": "python",
   "nbconvert_exporter": "python",
   "pygments_lexer": "ipython3",
   "version": "3.9.0"
  },
  "orig_nbformat": 4,
  "vscode": {
   "interpreter": {
    "hash": "342853931624d0661eab532c515b6392f0aa63b44dc5628d78f88c41238a596a"
   }
  }
 },
 "nbformat": 4,
 "nbformat_minor": 2
}
