{
 "cells": [
  {
   "cell_type": "code",
   "execution_count": 40,
   "id": "126c0c97",
   "metadata": {},
   "outputs": [],
   "source": [
    "import sklearn\n",
    "import pandas as pd\n",
    "import numpy as np\n",
    "from sklearn.linear_model import Lasso\n",
    "\n",
    "\n",
    "class Config:\n",
    "    uc_path = 'dataset/GSE114374_Human_UC_expression_matrix.txt'\n",
    "    hc_path = 'dataset/GSE114374_Human_HC_expression_matrix.txt'\n",
    "\n",
    "\n",
    "def gt_genes():\n",
    "    return ['IL23R', 'NOD2', 'TNF', 'IL1B', 'IL10', 'PTPN2', 'IRF5', 'ABCB1', 'IL6', 'HLA-DRB1']\n",
    "\n",
    "        \n",
    "\n",
    "def load_dataset(args, size=None):\n",
    "    \"\"\"\n",
    "        uc, hc  : pd.DataFrame (samples x genes)\n",
    "        i2g     : index to gene name\n",
    "        g2i     : gene name to index\n",
    "    \"\"\"\n",
    "    uc = pd.read_csv(args.uc_path, sep='\\t').transpose()\n",
    "    hc = pd.read_csv(args.hc_path, sep='\\t').transpose()\n",
    "    if size is not None:\n",
    "        uc = uc.iloc[:size]\n",
    "        hc = hc.iloc[:size]\n",
    "    i2g = uc.columns\n",
    "    g2i = {i2g[k]: k for k in range(len(i2g))}\n",
    "    return uc, hc, i2g, g2i\n",
    "\n",
    "\n",
    "def baseline_method(hc, uc):\n",
    "    uc_stat = uc.mean(axis=0)\n",
    "    hc_stat = hc.mean(axis=0)\n",
    "    mean = np.abs((uc_stat - hc_stat).to_numpy())\n",
    "    targets = mean\n",
    "    return targets\n",
    "\n",
    "def lasso_method(hc, uc, alpha=0.1):\n",
    "    X = np.concatenate([uc.to_numpy(), hc.to_numpy()], axis=0)\n",
    "    Y = np.concatenate([np.ones((uc.shape[0],)), np.zeros((hc.shape[0],))], axis=0)\n",
    "    lasso = Lasso(alpha=alpha)\n",
    "    lasso.fit(X,Y)\n",
    "    return np.abs(lasso.coef_)\n"
   ]
  },
  {
   "cell_type": "code",
   "execution_count": 18,
   "id": "5ddb75f5",
   "metadata": {},
   "outputs": [],
   "source": [
    "uc, hc, i2g, g2i = load_dataset(Config(), size=None)"
   ]
  },
  {
   "cell_type": "code",
   "execution_count": 37,
   "id": "5b3a2c81",
   "metadata": {},
   "outputs": [],
   "source": [
    "def iou_score(pred, gt=None):\n",
    "    if gt is None:\n",
    "        gt = [g2i[i] for i in gt_genes()]\n",
    "    s_pred = set(pred)\n",
    "    s_gt = set(gt)\n",
    "    return len(s_pred & s_gt) / len(s_pred | s_gt)\n",
    "\n",
    "\n",
    "def rank(pred, gt=None):\n",
    "    if gt is None:\n",
    "        gt = [g2i[i] for i in gt_genes()]\n",
    "    rank = len(pred) - np.argsort(np.argsort(pred))\n",
    "    return rank[gt]   \n",
    "\n",
    "def gt_stat():\n",
    "    uc_stat = uc.describe().iloc[:,[g2i[i] for i in gt_genes()]]\n",
    "    hc_stat = hc.describe().iloc[:,[g2i[i] for i in gt_genes()]]\n",
    "    return uc_stat, hc_stat"
   ]
  },
  {
   "cell_type": "code",
   "execution_count": 41,
   "id": "738b79e4",
   "metadata": {},
   "outputs": [],
   "source": [
    "lasso = lasso_method(hc, uc, alpha=0.1)\n",
    "mean = baseline_method(hc, uc)"
   ]
  },
  {
   "cell_type": "code",
   "execution_count": 42,
   "id": "cbd72228",
   "metadata": {},
   "outputs": [
    {
     "data": {
      "text/plain": [
       "array([12317, 19221,   735, 15499,  8617, 18898,  7257,  1325,  1878,\n",
       "         546])"
      ]
     },
     "execution_count": 42,
     "metadata": {},
     "output_type": "execute_result"
    }
   ],
   "source": [
    "rank(lasso, [g2i[i] for i in gt_genes()])"
   ]
  },
  {
   "cell_type": "code",
   "execution_count": 43,
   "id": "0b11d1e2",
   "metadata": {},
   "outputs": [
    {
     "data": {
      "text/plain": [
       "array([22102, 18904, 23091,  8641, 10579,  4930, 14653,  2093,   227,\n",
       "          18])"
      ]
     },
     "execution_count": 43,
     "metadata": {},
     "output_type": "execute_result"
    }
   ],
   "source": [
    "rank(mean, [g2i[i] for i in gt_genes()])"
   ]
  },
  {
   "cell_type": "code",
   "execution_count": 48,
   "id": "0bc3b2d8",
   "metadata": {},
   "outputs": [
    {
     "data": {
      "text/plain": [
       "33694"
      ]
     },
     "execution_count": 48,
     "metadata": {},
     "output_type": "execute_result"
    }
   ],
   "source": [
    "len(g2i)"
   ]
  },
  {
   "cell_type": "code",
   "execution_count": 49,
   "id": "9a1f42e0",
   "metadata": {},
   "outputs": [],
   "source": [
    "import torch\n",
    "import torch.nn as nn\n",
    "import torch.nn.functional as F\n",
    "class LassoClassification(nn.Module):\n",
    "    def __init__(self) -> None:\n",
    "        super().__init__()\n",
    "        self.fc = nn.Linear(33694, 1, bias=False)\n",
    "        \n",
    "    def forward(self, x):\n",
    "        \" x: [N, 33694] \"\n",
    "        x_norm = (x - x.mean(dim=0, keepdim=True)) / x.std(dim=0, keepdim=True)\n",
    "        pred = F.sigmoid(self.fc(x_norm))\n",
    "        return pred.flatten(), self.fc.weight\n",
    "\n",
    "net = LassoClassification()\n"
   ]
  }
 ],
 "metadata": {
  "kernelspec": {
   "display_name": "Python 3 (ipykernel)",
   "language": "python",
   "name": "python3"
  },
  "language_info": {
   "codemirror_mode": {
    "name": "ipython",
    "version": 3
   },
   "file_extension": ".py",
   "mimetype": "text/x-python",
   "name": "python",
   "nbconvert_exporter": "python",
   "pygments_lexer": "ipython3",
   "version": "3.9.15"
  },
  "vscode": {
   "interpreter": {
    "hash": "2faa75c5d31fc93aaada5e9a2dd8e3b76d6a87d3ce0cb6039cbf84614083b6cc"
   }
  }
 },
 "nbformat": 4,
 "nbformat_minor": 5
}
